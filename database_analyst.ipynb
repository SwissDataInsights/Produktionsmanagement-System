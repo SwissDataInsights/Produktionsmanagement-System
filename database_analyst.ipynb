{
 "cells": [
  {
   "cell_type": "code",
   "id": "initial_id",
   "metadata": {
    "collapsed": true,
    "ExecuteTime": {
     "end_time": "2025-04-12T18:50:23.057115Z",
     "start_time": "2025-04-12T18:50:23.048966Z"
    }
   },
   "source": [
    "import os\n",
    "import sqlite3"
   ],
   "outputs": [],
   "execution_count": 1
  },
  {
   "metadata": {
    "ExecuteTime": {
     "end_time": "2025-04-12T18:50:23.082008Z",
     "start_time": "2025-04-12T18:50:23.075197Z"
    }
   },
   "cell_type": "code",
   "source": [
    "# Ustal ścieżkę do pliku bazy danych\n",
    "db_dir = r\"sqlite-dll-win-x64-3490100\"\n",
    "db_file = \"produktionsmanagement.db\"\n",
    "db_path = os.path.join(db_dir, db_file)\n",
    "\n",
    "# Nawiąż połączenie z bazą danych\n",
    "conn = sqlite3.connect(db_path)\n",
    "cursor = conn.cursor()\n",
    "\n",
    "# Wykonaj zapytanie SELECT, aby pobrać wszystkie dane z tabeli \"przykladowa_tabela\"\n",
    "cursor.execute(\"SELECT * FROM produktion_70058\")\n",
    "rows = cursor.fetchall()\n",
    "\n",
    "# Opcjonalnie, pobierz nazwy kolumn\n",
    "column_names = [description[0] for description in cursor.description]\n",
    "print(column_names)\n",
    "\n",
    "# Wyświetl pobrane rekordy\n",
    "if rows:\n",
    "    for row in rows:\n",
    "        print(row)\n",
    "else:\n",
    "    print(\"Tabela jest pusta.\")\n",
    "\n",
    "# Zamknij połączenie z bazą danych\n",
    "conn.close()\n"
   ],
   "id": "40b47481a0113645",
   "outputs": [
    {
     "name": "stdout",
     "output_type": "stream",
     "text": [
      "['HESS-LP', 'Artikel-Nr.', 'Zeichnungs-Nr. Index', 'Artikelname', 'Einheit', 'Rusten', 'Mindestmenge', 'täglicher Verzehr', 'Sicherheitsbestand', 'Lieferzeit']\n",
      "('SmartBin 6/32', '0002877', 'BN10649 M06x30 _', 'Linsenchraube m. I-6rund', 'Stuck', 1.0, 21.0, 1.0, 7, 14)\n",
      "('SmartBin 3/7', '0003011', 'BN161 M06 B', 'Sicherungsmutter nied. Form', 'Stuck', 2.0, 42.0, 2.0, 7, 14)\n",
      "('A04-168', '0003433', 'BN5952 M04x12', 'Linsenchraube eco-fix', 'Stuck', 6.0, 126.0, 6.0, 7, 14)\n",
      "('W13(9)7', '0003498', 'BN611 M08x50 _', 'Zyl-Schraube m.I-6kt m.Schaft', 'Stuck', 5.0, 105.0, 5.0, 7, 14)\n",
      "(None, '0003518', 'BN616 M03x10 _', 'Senkchrauben m.I-6kt', 'Stuck', 2.0, 42.0, 2.0, 7, 14)\n",
      "('A04-108', '0003535', 'BN616 M06x40 A', 'Senkchraube m.I-6kt', 'Stuck', 1.0, 21.0, 1.0, 7, 14)\n",
      "('SmartBin 5/8', '0003541', 'BN616 M08x20 B', 'Senkschraube m.I-6kt', 'Stuck', 2.0, 42.0, 2.0, 7, 14)\n",
      "('SmartBin 7/43', '0003942', 'BN697 ST3,5x13 A', 'Lsk-Blechschraube', 'Stuck', 4.0, 84.0, 4.0, 7, 14)\n",
      "('A08-168', '0003979', 'BN715 M04 A', 'Scheibe', 'Stuck', 4.0, 84.0, 4.0, 7, 14)\n",
      "('NFZ-SB 1/21', '0003981', 'BN715 M06 B', 'Scheibe', 'Stuck', 2.0, 42.0, 2.0, 7, 14)\n",
      "('A103-224', '0038536', 'NI MAG 4,8 SK A', 'Magna-Lok-Niet / Senkkopf', 'Stuck', 2.0, 42.0, 2.0, 7, 14)\n",
      "('A103-328', '0038566', 'NI TUBT M4 RUT/FEF3', 'Blindnietmutter TUBTARA', 'Stuck', 10.0, 210.0, 10.0, 7, 14)\n",
      "('W13(12)2', '0073668', 'BN616 M06x60', 'Senkschraube m.I-6kt', 'Stuck', 1.0, 21.0, 1.0, 7, 14)\n",
      "(None, '0140166', 'BN616 M03x16 _', 'Senkschraube m.I-6kt', 'Stuck', 2.0, 42.0, 2.0, 7, 14)\n",
      "('NFZ-SB-4/33', '0164222', None, 'Linsenschraube mit Flansch', 'Stuck', 4.0, 84.0, 4.0, 7, 14)\n",
      "(None, '0136963', '138427 E', 'ZB Chauffeurtur', 'Stuck', 1.0, 21.0, 1.0, 7, 14)\n",
      "(None, '0137178', '138650 D', 'ZB Verschalung', 'Stuck', 1.0, 21.0, 1.0, 7, 14)\n",
      "(None, '0155765', None, 'Defrosterschlauch 160 mm', 'm', 0.85, 17.849999999999998, 0.85, 7, 14)\n",
      "(None, '0170143', '151885 A', 'Chauffeurtrennwand', 'Stuck', 1.0, 21.0, 1.0, 7, 14)\n",
      "(None, '0179490', '153994 _', 'Sonnenblende LCM_703T', 'Stuck', 2.0, 42.0, 2.0, 7, 14)\n"
     ]
    }
   ],
   "execution_count": 2
  },
  {
   "metadata": {
    "ExecuteTime": {
     "end_time": "2025-04-11T20:46:53.765212Z",
     "start_time": "2025-04-11T20:46:53.749576Z"
    }
   },
   "cell_type": "code",
   "source": [
    "import os\n",
    "import sqlite3\n",
    "import pandas as pd\n",
    "\n",
    "# Ustal ścieżkę do katalogu i bazy danych\n",
    "db_dir = 'sqlite-dll-win-x64-3490100'\n",
    "db_path = os.path.join(db_dir, 'produktionsmanagement.db')\n",
    "\n",
    "# Nawiąż połączenie z bazą danych\n",
    "conn = sqlite3.connect(db_path)\n",
    "cursor = conn.cursor()\n",
    "print(\"Połączenie z bazą danych zostało nawiązane.\")\n",
    "\n",
    "# Przygotuj zapytanie SQL, które łączy obie tabele na podstawie kolumny \"Artikel-Nr.\"\n",
    "# i wylicza dodatkową kolumnę \"Do Zamówienia\" jako (Mindestmenge - Menge)\n",
    "query = '''\n",
    "SELECT\n",
    "    p.\"Artikel-Nr.\",\n",
    "    p.\"Artikelname\",\n",
    "    p.\"Mindestmenge\",\n",
    "    t.\"Menge\",\n",
    "    (p.\"Mindestmenge\" - t.\"Menge\") AS \"Do Zamówienia\"\n",
    "FROM produktion_70058 p\n",
    "JOIN teilelager t ON p.\"Artikel-Nr.\" = t.\"Artikel-Nr.\"\n",
    "WHERE t.\"Menge\" < p.\"Mindestmenge\"\n",
    "'''\n",
    "\n",
    "cursor.execute(query)\n",
    "results = cursor.fetchall()\n",
    "\n",
    "# Określ nazwy kolumn odpowiadających zapytaniu\n",
    "columns = [\"Artikel-Nr.\", \"Artikelname\", \"Mindestmenge\", \"Menge\", \"Do Zamówienia\"]\n",
    "\n",
    "if results:\n",
    "    print(\"Poniższe części mogą być niewystarczające do produkcji (Menge < Mindestmenge):\")\n",
    "    for row in results:\n",
    "        print(f\"Artikel-Nr.: {row[0]}, Nazwa: {row[1]}, Mindestmenge: {row[2]}, Menge: {row[3]}, Do Zamówienia: {row[4]}\")\n",
    "else:\n",
    "    print(\"Brak części, dla których stan magazynowy byłby niższy niż wymagana ilość.\")\n",
    "\n",
    "# Konwertuj wyniki do DataFrame\n",
    "df_results = pd.DataFrame(results, columns=columns)\n",
    "\n",
    "# Zapisz wyniki do pliku Excel\n",
    "output_file = 'wyniki_zamowien.xlsx'\n",
    "df_results.to_excel(output_file, index=False)\n",
    "print(f\"Wyniki zapisano do pliku: {output_file}\")\n",
    "\n",
    "conn.close()\n",
    "print(\"Proces zakończony.\")\n"
   ],
   "id": "323c2f32ef44057e",
   "outputs": [
    {
     "name": "stdout",
     "output_type": "stream",
     "text": [
      "Połączenie z bazą danych zostało nawiązane.\n",
      "Poniższe części mogą być niewystarczające do produkcji (Menge < Mindestmenge):\n",
      "Artikel-Nr.: 0002877, Nazwa: Linsenchraube m. I-6rund, Mindestmenge: 21.0, Menge: 10, Do Zamówienia: 11.0\n",
      "Artikel-Nr.: 0003011, Nazwa: Sicherungsmutter nied. Form, Mindestmenge: 42.0, Menge: 25, Do Zamówienia: 17.0\n",
      "Artikel-Nr.: 0003433, Nazwa: Linsenchraube eco-fix, Mindestmenge: 126.0, Menge: 80, Do Zamówienia: 46.0\n",
      "Artikel-Nr.: 0003498, Nazwa: Zyl-Schraube m.I-6kt m.Schaft, Mindestmenge: 105.0, Menge: 89, Do Zamówienia: 16.0\n",
      "Artikel-Nr.: 0003541, Nazwa: Senkschraube m.I-6kt, Mindestmenge: 42.0, Menge: 35, Do Zamówienia: 7.0\n",
      "Artikel-Nr.: 0003942, Nazwa: Lsk-Blechschraube, Mindestmenge: 84.0, Menge: 23, Do Zamówienia: 61.0\n",
      "Artikel-Nr.: 0003979, Nazwa: Scheibe, Mindestmenge: 84.0, Menge: 23, Do Zamówienia: 61.0\n",
      "Artikel-Nr.: 0038536, Nazwa: Magna-Lok-Niet / Senkkopf, Mindestmenge: 42.0, Menge: 12, Do Zamówienia: 30.0\n",
      "Artikel-Nr.: 0073668, Nazwa: Senkschraube m.I-6kt, Mindestmenge: 21.0, Menge: 5, Do Zamówienia: 16.0\n",
      "Artikel-Nr.: 0140166, Nazwa: Senkschraube m.I-6kt, Mindestmenge: 42.0, Menge: 14, Do Zamówienia: 28.0\n",
      "Artikel-Nr.: 0164222, Nazwa: Linsenschraube mit Flansch, Mindestmenge: 84.0, Menge: 8, Do Zamówienia: 76.0\n",
      "Artikel-Nr.: 0136963, Nazwa: ZB Chauffeurtur, Mindestmenge: 21.0, Menge: 9, Do Zamówienia: 12.0\n",
      "Artikel-Nr.: 0137178, Nazwa: ZB Verschalung, Mindestmenge: 21.0, Menge: 3, Do Zamówienia: 18.0\n",
      "Artikel-Nr.: 0170143, Nazwa: Chauffeurtrennwand, Mindestmenge: 21.0, Menge: 1, Do Zamówienia: 20.0\n",
      "Artikel-Nr.: 0179490, Nazwa: Sonnenblende LCM_703T, Mindestmenge: 42.0, Menge: 34, Do Zamówienia: 8.0\n",
      "Wyniki zapisano do pliku: wyniki_zamowien.xlsx\n",
      "Proces zakończony.\n"
     ]
    }
   ],
   "execution_count": 49
  },
  {
   "metadata": {
    "ExecuteTime": {
     "end_time": "2025-04-11T20:46:54.070691Z",
     "start_time": "2025-04-11T20:46:53.773180Z"
    }
   },
   "cell_type": "code",
   "source": [
    "import matplotlib.pyplot as plt\n",
    "\n",
    "# Zakładamy, że df_results został już utworzony na podstawie zapytania SQL\n",
    "# i zawiera kolumny: \"Artikel-Nr.\", \"Artikelname\", \"Mindestmenge\", \"Menge\", \"Do Zamówienia\"\n",
    "\n",
    "# Filtrowanie, aby pozostawić tylko te wiersze, gdzie Do Zamówienia > 0.\n",
    "df_filtered = df_results[df_results[\"Do Zamówienia\"] > 0]\n",
    "\n",
    "# Oblicz całkowity brak (suma kolumny \"Do Zamówienia\")\n",
    "total_missing = df_filtered[\"Do Zamówienia\"].sum()\n",
    "\n",
    "# Ustaw rozmiar wykresu\n",
    "plt.figure(figsize=(12, 6))\n",
    "\n",
    "# Tworzymy wykres słupkowy tylko dla artykułów, w których Do Zamówienia > 0.\n",
    "bars = plt.bar(df_filtered[\"Artikel-Nr.\"], df_filtered[\"Do Zamówienia\"], color='salmon')\n",
    "\n",
    "# Ustaw etykiety osi\n",
    "plt.xlabel(\"Artikel-Nr.\", fontsize=12)\n",
    "plt.ylabel(\"Ilość do zamówienia\", fontsize=12)\n",
    "plt.title(\"Braki w częściach dla produkcji\", fontsize=14)\n",
    "\n",
    "# Obróć etykiety na osi X, aby były czytelne\n",
    "plt.xticks(rotation=45)\n",
    "\n",
    "# Dodaj adnotacje z wartością nad każdym słupkiem\n",
    "for bar in bars:\n",
    "    height = bar.get_height()\n",
    "    plt.text(\n",
    "        bar.get_x() + bar.get_width() / 2,\n",
    "        height,\n",
    "        f'{int(height)}',\n",
    "        ha='center',\n",
    "        va='bottom',\n",
    "        fontsize=10\n",
    "    )\n",
    "\n",
    "# Dodaj całkowitą sumę braków jako adnotację na wykresie – np. w lewym górnym rogu\n",
    "plt.text(0.02, 0.95, f\"Całkowity brak: {int(total_missing)}\", transform=plt.gca().transAxes,\n",
    "         fontsize=12, color='red', bbox=dict(facecolor='white', alpha=0.8))\n",
    "\n",
    "plt.tight_layout()\n",
    "\n",
    "# Zapisz wykres do pliku\n",
    "plt.savefig('wykres_braki.png', dpi=300)\n",
    "\n",
    "# Wyświetl wykres\n",
    "plt.show()\n"
   ],
   "id": "d1ee4a3dc939d948",
   "outputs": [
    {
     "data": {
      "text/plain": [
       "<Figure size 1200x600 with 1 Axes>"
      ],
      "image/png": "[encoded data removed]"
     },
     "metadata": {},
     "output_type": "display_data"
    }
   ],
   "execution_count": 50
  },
  {
   "metadata": {
    "ExecuteTime": {
     "end_time": "2025-04-11T20:46:54.098058Z",
     "start_time": "2025-04-11T20:46:54.080069Z"
    }
   },
   "cell_type": "code",
   "source": [
    "import os\n",
    "import sqlite3\n",
    "import pandas as pd\n",
    "\n",
    "# -------------------------------\n",
    "# Krok 1: Połączenie z bazą danych\n",
    "# -------------------------------\n",
    "db_dir = 'sqlite-dll-win-x64-3490100'\n",
    "db_path = os.path.join(db_dir, 'produktionsmanagement.db')\n",
    "conn = sqlite3.connect(db_path)\n",
    "cursor = conn.cursor()\n",
    "print(\"Połączenie z bazą danych zostało nawiązane.\")\n",
    "\n",
    "# -------------------------------\n",
    "# Krok 2: Pobranie i przygotowanie danych\n",
    "# -------------------------------\n",
    "# Zapytanie SQL pobiera dane z tabeli produktion_70058 oraz teilelager,\n",
    "# obliczając dodatkowo \"Do Zamówienia\" = Mindestmenge - Menge\n",
    "query = '''\n",
    "SELECT\n",
    "    p.\"Artikel-Nr.\",\n",
    "    p.\"Artikelname\",\n",
    "    p.\"Mindestmenge\",\n",
    "    p.\"täglicher Verzehr\",\n",
    "    t.\"Menge\",\n",
    "    (p.\"Mindestmenge\" - t.\"Menge\") AS \"Do Zamówienia\"\n",
    "FROM produktion_70058 p\n",
    "JOIN teilelager t ON p.\"Artikel-Nr.\" = t.\"Artikel-Nr.\"\n",
    "WHERE t.\"Menge\" < p.\"Mindestmenge\"\n",
    "'''\n",
    "\n",
    "cursor.execute(query)\n",
    "results = cursor.fetchall()\n",
    "\n",
    "# Definicja nazw kolumn odpowiadających zapytaniu\n",
    "columns = [\"Artikel-Nr.\", \"Artikelname\", \"Mindestmenge\", \"täglicher Verzehr\", \"Menge\", \"Do Zamówienia\"]\n",
    "\n",
    "if results:\n",
    "    print(\"Poniższe części mogą być niewystarczające do produkcji (Menge < Mindestmenge):\")\n",
    "    for row in results:\n",
    "        print(f\"Artikel-Nr.: {row[0]}, Nazwa: {row[1]}, Mindestmenge: {row[2]}, Menge: {row[4]}, Do Zamówienia: {row[5]}\")\n",
    "else:\n",
    "    print(\"Brak części, dla których stan magazynowy byłby niższy niż wymagana ilość.\")\n",
    "\n",
    "# Konwersja wyników do DataFrame\n",
    "df_results = pd.DataFrame(results, columns=columns)\n",
    "\n",
    "# Obliczamy dodatkową kolumnę \"Dni dostępne\"\n",
    "# Zakładamy, że \"täglicher Verzehr\" to dzienne zużycie, czyli:\n",
    "# Dni dostępne = Menge / täglicher Verzehr\n",
    "df_results[\"Dni dostępne\"] = df_results[\"Menge\"] / df_results[\"täglicher Verzehr\"]\n",
    "\n",
    "# -------------------------------\n",
    "# Krok 3: Filtrowanie artykułów, gdzie dostępne dni < 5\n",
    "# -------------------------------\n",
    "df_below5 = df_results[df_results[\"Dni dostępne\"] < 5].copy()\n",
    "\n",
    "# Opcjonalnie sortujemy według \"Dni dostępne\" rosnąco\n",
    "df_below5 = df_below5.sort_values(by=\"Dni dostępne\", ascending=True)\n",
    "\n",
    "if df_below5.empty:\n",
    "    print(\"Brak artykułów, dla których dostępne dni są poniżej 5.\")\n",
    "else:\n",
    "    print(\"Artykuły, dla których dostępne dni są poniżej 5:\")\n",
    "    print(df_below5[[\"Artikel-Nr.\", \"Artikelname\", \"Dni dostępne\"]])\n",
    "\n",
    "# -------------------------------\n",
    "# Krok 4: Zapis do pliku Excel\n",
    "# -------------------------------\n",
    "output_file = \"artykuly_below5dni.xlsx\"\n",
    "df_below5.to_excel(output_file, index=False)\n",
    "print(\"Lista artykułów została zapisana do pliku:\", output_file)\n",
    "\n",
    "conn.close()\n",
    "print(\"Proces zakończony.\")\n"
   ],
   "id": "e1b5b6368b90a417",
   "outputs": [
    {
     "name": "stdout",
     "output_type": "stream",
     "text": [
      "Połączenie z bazą danych zostało nawiązane.\n",
      "Poniższe części mogą być niewystarczające do produkcji (Menge < Mindestmenge):\n",
      "Artikel-Nr.: 0002877, Nazwa: Linsenchraube m. I-6rund, Mindestmenge: 21.0, Menge: 10, Do Zamówienia: 11.0\n",
      "Artikel-Nr.: 0003011, Nazwa: Sicherungsmutter nied. Form, Mindestmenge: 42.0, Menge: 25, Do Zamówienia: 17.0\n",
      "Artikel-Nr.: 0003433, Nazwa: Linsenchraube eco-fix, Mindestmenge: 126.0, Menge: 80, Do Zamówienia: 46.0\n",
      "Artikel-Nr.: 0003498, Nazwa: Zyl-Schraube m.I-6kt m.Schaft, Mindestmenge: 105.0, Menge: 89, Do Zamówienia: 16.0\n",
      "Artikel-Nr.: 0003541, Nazwa: Senkschraube m.I-6kt, Mindestmenge: 42.0, Menge: 35, Do Zamówienia: 7.0\n",
      "Artikel-Nr.: 0003942, Nazwa: Lsk-Blechschraube, Mindestmenge: 84.0, Menge: 23, Do Zamówienia: 61.0\n",
      "Artikel-Nr.: 0003979, Nazwa: Scheibe, Mindestmenge: 84.0, Menge: 23, Do Zamówienia: 61.0\n",
      "Artikel-Nr.: 0038536, Nazwa: Magna-Lok-Niet / Senkkopf, Mindestmenge: 42.0, Menge: 12, Do Zamówienia: 30.0\n",
      "Artikel-Nr.: 0073668, Nazwa: Senkschraube m.I-6kt, Mindestmenge: 21.0, Menge: 5, Do Zamówienia: 16.0\n",
      "Artikel-Nr.: 0140166, Nazwa: Senkschraube m.I-6kt, Mindestmenge: 42.0, Menge: 14, Do Zamówienia: 28.0\n",
      "Artikel-Nr.: 0164222, Nazwa: Linsenschraube mit Flansch, Mindestmenge: 84.0, Menge: 8, Do Zamówienia: 76.0\n",
      "Artikel-Nr.: 0136963, Nazwa: ZB Chauffeurtur, Mindestmenge: 21.0, Menge: 9, Do Zamówienia: 12.0\n",
      "Artikel-Nr.: 0137178, Nazwa: ZB Verschalung, Mindestmenge: 21.0, Menge: 3, Do Zamówienia: 18.0\n",
      "Artikel-Nr.: 0170143, Nazwa: Chauffeurtrennwand, Mindestmenge: 21.0, Menge: 1, Do Zamówienia: 20.0\n",
      "Artikel-Nr.: 0179490, Nazwa: Sonnenblende LCM_703T, Mindestmenge: 42.0, Menge: 34, Do Zamówienia: 8.0\n",
      "Artykuły, dla których dostępne dni są poniżej 5:\n",
      "   Artikel-Nr.                 Artikelname  Dni dostępne\n",
      "13     0170143          Chauffeurtrennwand           1.0\n",
      "10     0164222  Linsenschraube mit Flansch           2.0\n",
      "12     0137178              ZB Verschalung           3.0\n",
      "Lista artykułów została zapisana do pliku: artykuly_below5dni.xlsx\n",
      "Proces zakończony.\n"
     ]
    }
   ],
   "execution_count": 51
  },
  {
   "metadata": {
    "ExecuteTime": {
     "end_time": "2025-04-11T20:46:54.109414Z",
     "start_time": "2025-04-11T20:46:54.106664Z"
    }
   },
   "cell_type": "code",
   "source": "",
   "id": "ac45b2d9b012365c",
   "outputs": [],
   "execution_count": null
  }
 ],
 "metadata": {
  "kernelspec": {
   "display_name": "Python 3",
   "language": "python",
   "name": "python3"
  },
  "language_info": {
   "codemirror_mode": {
    "name": "ipython",
    "version": 2
   },
   "file_extension": ".py",
   "mimetype": "text/x-python",
   "name": "python",
   "nbconvert_exporter": "python",
   "pygments_lexer": "ipython2",
   "version": "2.7.6"
  }
 },
 "nbformat": 4,
 "nbformat_minor": 5
}
